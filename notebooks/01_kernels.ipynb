{
  "cells": [
    {
      "cell_type": "markdown",
      "metadata": {
        "id": "-8b52IoDL9lR"
      },
      "source": [
        "# Setup"
      ]
    },
    {
      "cell_type": "code",
      "execution_count": 1,
      "metadata": {
        "id": "OqdP5YjcL9lT"
      },
      "outputs": [
        {
          "name": "stdout",
          "output_type": "stream",
          "text": [
            "Intel MKL WARNING: Support of Intel(R) Streaming SIMD Extensions 4.2 (Intel(R) SSE4.2) enabled only processors has been deprecated. Intel oneAPI Math Kernel Library 2025.0 will require Intel(R) Advanced Vector Extensions (Intel(R) AVX) instructions.\n",
            "Intel MKL WARNING: Support of Intel(R) Streaming SIMD Extensions 4.2 (Intel(R) SSE4.2) enabled only processors has been deprecated. Intel oneAPI Math Kernel Library 2025.0 will require Intel(R) Advanced Vector Extensions (Intel(R) AVX) instructions.\n"
          ]
        }
      ],
      "source": [
        "import numpy as np\n",
        "import matplotlib.pyplot as plt\n",
        "plt.style.use('ggplot')\n",
        "\n",
        "def get_kernelized_ls_ds(N=25, s=.2, lim=(-5, 5)):\n",
        "    np.random.seed(98)\n",
        "    f = lambda x: np.sin(0.9*x).flatten()\n",
        "    X = np.random.uniform(lim[0], lim[1], size=N)\n",
        "    y = f(X) + s*np.random.randn(N)\n",
        "    return (X,y,f)\n",
        "\n",
        "def get_dna_sequences():\n",
        "    X_train = [\"TCCGTTACCGTGTAACCGACGCCAAGACCGAG\", \"GCTTGTAATCTGTTTTGACGCCCTCGTCCATGATG\", \"AGTCAAGCTTTGGTTATTTGTGGTGTTCAATA\",\\\n",
        "         \"ACCTGAATCTAGTAACCGACGGCGTGTACGATA\", \"CTTAAAACCTGTTATTAATGCGGTAAAAT\", \"CCTGCATGCGTGGAAGTGACGCCTATCCAT\",\\\n",
        "         \"TGTTATACCTTTGGATCATTATTGAGTGAAA\", \"CTTCAACGCCTATTATTTTGGGTGTGAAAT\", \"ACCGTAAGTGTTACAGACCGTAAGTACCGTTG\",\\\n",
        "         \"CGTTCAACGCCTAGGTGTATTGGGTGTCTG\"]\n",
        "    y_train = [1, 1, -1, 1, -1, 1, -1, -1, 1, -1]\n",
        "\n",
        "    X_test = [\"CTTTCAAGGCCCTAATTATCATTGGGTTGAAT\", \"CGTACCACCCTTCGTTGATGTTTCCGGGAAT\", \"TCGTACTGCGAACTGAGCCTAGTGACCGACG\"]\n",
        "    y_test = [-1, 1, 1]\n",
        "\n",
        "    return (X_train, y_train, X_test, y_test)"
      ]
    },
    {
      "cell_type": "markdown",
      "metadata": {
        "id": "D20SIs4zL9lX"
      },
      "source": [
        "# Kernel Methods"
      ]
    },
    {
      "cell_type": "markdown",
      "metadata": {
        "id": "GMf31v7GL9lX"
      },
      "source": [
        "## Kernelized Least Squares\n",
        "In this task, we will implement a least squares which utilizes kernels. We will use the *dual representation* to make predictions.\n",
        "Use the following data:"
      ]
    },
    {
      "cell_type": "code",
      "execution_count": 2,
      "metadata": {
        "colab": {
          "base_uri": "https://localhost:8080/",
          "height": 430
        },
        "id": "zkbISZuML9lY",
        "outputId": "bd5bf3ac-ce7b-43f3-88d8-110815ae84a8"
      },
      "outputs": [
        {
          "data": {
            "image/png": "[encoded data removed]",
            "text/plain": [
              "<Figure size 640x480 with 1 Axes>"
            ]
          },
          "metadata": {},
          "output_type": "display_data"
        }
      ],
      "source": [
        "X, y, f = get_kernelized_ls_ds()\n",
        "\n",
        "axis = np.linspace(min(X), max(X), 201)\n",
        "plt.plot(axis, f(axis), label='Ground Truth')\n",
        "plt.scatter(X, y, label='Data')\n",
        "plt.legend()\n",
        "plt.show()"
      ]
    },
    {
      "cell_type": "markdown",
      "metadata": {
        "id": "zNF60hDLL9lZ"
      },
      "source": [
        "> Implement the Gaussian kernel (also called radial basis function kernel):\n",
        "> $$k\\left(\\mathbf{x}, \\mathbf{x}^{\\prime}\\right)=\\exp \\left(-\\left\\|\\mathbf{x}-\\mathbf{x}^{\\prime}\\right\\|^{2} / 2 \\sigma^{2}\\right)$$"
      ]
    },
    {
      "cell_type": "code",
      "execution_count": 4,
      "metadata": {
        "id": "Ahv_m-p4L9la"
      },
      "outputs": [
        {
          "data": {
            "text/plain": [
              "0.3678794411714422"
            ]
          },
          "execution_count": 4,
          "metadata": {},
          "output_type": "execute_result"
        }
      ],
      "source": [
        "class GaussianKernel:\n",
        "    def __init__(self, h):\n",
        "        self.h = h\n",
        "\n",
        "    def __call__(self, u, v):\n",
        "        u = np.array(u)\n",
        "        v = np.array(v)\n",
        "        return np.exp(-np.linalg.norm(u-v)**2/(2*self.h**2))\n",
        "\n",
        "kernel = GaussianKernel(h=1)\n",
        "kernel([1, 2], [2, 1]) # returns 0.36787944117144233"
      ]
    },
    {
      "cell_type": "markdown",
      "metadata": {
        "id": "QjJeZ8dQL9lb"
      },
      "source": [
        "> Implement the following methods for the class `KernelizedRegression`:\n",
        "> - `init`: Init the Regression model and set the kernel function.\n",
        "> - `fit`: Calculate the gram martix $\\mathbf{K}$ and $\\mathbf{a}$ according to $$K_{n m}=k\\left(\\mathbf{x}_{n}, \\mathbf{x}_{m}\\right) \\quad \\quad \\mathbf{a}=\\left(\\mathbf{K}+\\lambda \\mathbf{I}_{N}\\right)^{-1} \\mathbf{t}$$\n",
        "> - `predict`: Exploit $\\mathbf{a}$ to make predictions according to $$y(\\mathbf{x}) = \\mathbf{k}(\\mathbf{x})^{\\mathrm{T}} \\underbrace{\\left(\\mathbf{K}+\\lambda \\mathbf{I}_{N}\\right)^{-1} \\mathbf{t}}_{\\mathbf{a}}$$"
      ]
    },
    {
      "cell_type": "code",
      "execution_count": 11,
      "metadata": {
        "id": "4de086QZL9lc"
      },
      "outputs": [],
      "source": [
        "class KernelizedRegression:\n",
        "    def __init__(self, kernel_func):\n",
        "        self.kernel = kernel_func\n",
        "\n",
        "    def fit(self, X, y, lmb=0):\n",
        "        X = np.array(X)\n",
        "        y = np.array(y)\n",
        "        self.K = np.array([[self.kernel(u, v) for v in X] for u in X])\n",
        "        self.a = np.linalg.solve(self.K + lmb*np.eye(len(X)), y)\n",
        "\n",
        "    def predict(self, x):\n",
        "        k_x = np.array([self.kernel(v, x) for v in X])\n",
        "        return np.dot(self.a, k_x)"
      ]
    },
    {
      "cell_type": "markdown",
      "metadata": {
        "id": "yWRsA9ImL9ld"
      },
      "source": [
        ">Use the implemented model to make predictions for our regression task defined above. Try different values for $\\lambda$."
      ]
    },
    {
      "cell_type": "code",
      "execution_count": 12,
      "metadata": {
        "id": "4GHRx4mPL9le"
      },
      "outputs": [
        {
          "data": {
            "text/plain": [
              "0.2712794562917236"
            ]
          },
          "execution_count": 12,
          "metadata": {},
          "output_type": "execute_result"
        }
      ],
      "source": [
        "clf = KernelizedRegression(GaussianKernel(h=1))\n",
        "clf.fit(X, y, lmb=1)\n",
        "clf.predict(0.5)"
      ]
    },
    {
      "cell_type": "markdown",
      "metadata": {
        "id": "ccYP9uc3L9le"
      },
      "source": [
        "> Find the best parameters for $\\lambda$ and the bandwidth parameter of the gaussian kernel by using grid search and cross validation. For that, use  `KFold` from `sklearn.model_selection` and plot the *best* model."
      ]
    },
    {
      "cell_type": "code",
      "execution_count": null,
      "metadata": {
        "id": "ro-B7_UKL9lf"
      },
      "outputs": [],
      "source": [
        "####################\n",
        "# Your Code Here   #\n",
        "####################"
      ]
    },
    {
      "cell_type": "markdown",
      "metadata": {
        "id": "jhlC_zEwL9lf"
      },
      "source": [
        "##  Diferent Kernels\n",
        "\n",
        "### Example DNA\n",
        "\n",
        "Consider the following training data which resembles DNA sequences and coressponding labels.\n",
        "The sequences are $x \\in \\{A, C, G, T \\}*$ while the labels are either $1$ or $-1$."
      ]
    },
    {
      "cell_type": "code",
      "execution_count": null,
      "metadata": {
        "id": "liHaZvwWL9lg"
      },
      "outputs": [],
      "source": [
        "X_train, y_train, X_test, y_test = get_dna_sequences()\n",
        "X_train, y_train"
      ]
    },
    {
      "cell_type": "markdown",
      "metadata": {
        "id": "YPsASNAgL9lg"
      },
      "source": [
        "> Implement a kernel function `dna_kernel(u, v)` that is defined as the number of different sub sequences of length 3 between both samples `u` and `v` (i.e., the number of 3 character substrings which are unique in each sequence).\n",
        "___\n",
        "\n",
        "#### Example: `ABCDEF` and `CDEFGH`\n",
        "1. Check if `ABC` in `CDEFGH` -- `ABC` is not in `CDEFGH`\n",
        "2. Check if `BCD` in `CDEFGH` -- `BCD` is not in `CDEFGH`\n",
        "3. Check if `CDE` in `CDEFGH` -- `CDE` is in `CDEFGH`\n",
        "4. Check if `DEF` in `CDEFGH` -- `DEF` is in `CDEFGH`\n",
        "\n",
        "Since the substrings `CDE` and `DEF` appear in `CDEFGH`: `dna_kernel(ABCDEF, CDEFGH) = 2`.\n",
        "___"
      ]
    },
    {
      "cell_type": "code",
      "execution_count": null,
      "metadata": {
        "id": "557obQZ9L9lh"
      },
      "outputs": [],
      "source": [
        "####################\n",
        "# Your Code Here   #\n",
        "####################\n",
        "dna_kernel(\"ABCDEF\", \"CDEFGH\") # returns 2"
      ]
    },
    {
      "cell_type": "markdown",
      "metadata": {
        "id": "CERnkaqQL9lh"
      },
      "source": [
        "> Fit the kernelized regression model using this new kernel function. Use `plt.matshow` to visualize the gram matrix $\\mathbf{K}$. How can you interpret the resulting plot?"
      ]
    },
    {
      "cell_type": "code",
      "execution_count": null,
      "metadata": {
        "id": "Sotj_SyXL9lo"
      },
      "outputs": [],
      "source": [
        "####################\n",
        "# Your Code Here   #\n",
        "####################"
      ]
    },
    {
      "cell_type": "markdown",
      "metadata": {
        "id": "J_qUxlU_L9lo"
      },
      "source": [
        "> In order to make predictions in this classification task, we need to alter the predicted output. For that, use the `np.sign` function and evalutae your model using the `log_loss` from `sklearn.metrics`."
      ]
    },
    {
      "cell_type": "code",
      "execution_count": null,
      "metadata": {
        "id": "H0ulaYooL9lp"
      },
      "outputs": [],
      "source": [
        "####################\n",
        "# Your Code Here   #\n",
        "####################"
      ]
    }
  ],
  "metadata": {
    "colab": {
      "provenance": []
    },
    "kernelspec": {
      "display_name": "Python 3",
      "language": "python",
      "name": "python3"
    },
    "language_info": {
      "codemirror_mode": {
        "name": "ipython",
        "version": 3
      },
      "file_extension": ".py",
      "mimetype": "text/x-python",
      "name": "python",
      "nbconvert_exporter": "python",
      "pygments_lexer": "ipython3",
      "version": "3.9.18"
    },
    "toc-autonumbering": false
  },
  "nbformat": 4,
  "nbformat_minor": 0
}
